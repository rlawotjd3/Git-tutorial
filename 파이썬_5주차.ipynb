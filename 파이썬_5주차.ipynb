{
 "cells": [
  {
   "cell_type": "code",
   "execution_count": 1,
   "id": "dab74d79",
   "metadata": {},
   "outputs": [
    {
     "name": "stdout",
     "output_type": "stream",
     "text": [
      "list A : [0, 1, 2, 3, 4, 5, 6, 7, 8, 9]\n",
      "list B : [9, 8, 7, 6, 5, 4, 3, 2, 1, 0]\n",
      "============\n",
      "list A :  [7, 8, 9]\n",
      "list B :  [2, 1, 0]\n"
     ]
    }
   ],
   "source": [
    "#문제 01\n",
    "\n",
    "A = list(range(10))\n",
    "B = list(range(9, -1, -1))\n",
    "print(\"list A : \", A, sep='')\n",
    "print(\"list B : \", B, sep='')\n",
    "print(\"============\")\n",
    "\n",
    "del A[:-3]\n",
    "del B[:-3]\n",
    "\n",
    "print(\"list A : \", A)\n",
    "print(\"list B : \", B)"
   ]
  },
  {
   "cell_type": "code",
   "execution_count": 5,
   "id": "9726e359",
   "metadata": {},
   "outputs": [
    {
     "name": "stdout",
     "output_type": "stream",
     "text": [
      "name: 콜라 사이다 토레타 하늘보리\n",
      "price: 2400 2000 2000 1600\n",
      "menu :  {'콜라': '2400', '사이다': '2000', '토레타': '2000', '하늘보리': '1600'}\n",
      "원하는 음료수를 선택해주세요: 사이다\n",
      "사이다의 가격은 2000원입니다.\n"
     ]
    }
   ],
   "source": [
    "#문제 02\n",
    "name = input(\"name: \").split()\n",
    "price = input(\"price: \").split()\n",
    "\n",
    "menu = dict(zip(name, price))\n",
    "\n",
    "print(\"menu : \", menu)\n",
    "\n",
    "menu_name = input(\"원하는 음료수를 선택해주세요: \")\n",
    "\n",
    "menu_price = menu.get(menu_name)\n",
    "if menu_price != None:\n",
    "    print(\"{}의 가격은 {}원입니다.\".format(menu_name, menu_price))"
   ]
  },
  {
   "cell_type": "code",
   "execution_count": 6,
   "id": "7f562695",
   "metadata": {},
   "outputs": [
    {
     "name": "stdout",
     "output_type": "stream",
     "text": [
      "name: 콜라 사이다 토레타 하늘보리\n",
      "price: 2400 2000 2000 1600\n",
      "menu :  {'콜라': '2400', '사이다': '2000', '토레타': '2000', '하늘보리': '1600'}\n",
      "원하는 음료수를 선택해주세요: 초코우유\n"
     ]
    }
   ],
   "source": [
    "#문제 02\n",
    "name = input(\"name: \").split()\n",
    "price = input(\"price: \").split()\n",
    "\n",
    "menu = dict(zip(name, price))\n",
    "\n",
    "print(\"menu : \", menu)\n",
    "\n",
    "menu_name = input(\"원하는 음료수를 선택해주세요: \")\n",
    "\n",
    "menu_price = menu.get(menu_name)\n",
    "if menu_price != None:\n",
    "    print(\"{}의 가격은 {}원입니다.\".format(menu_name, menu_price))"
   ]
  },
  {
   "cell_type": "code",
   "execution_count": null,
   "id": "f37e3f98",
   "metadata": {},
   "outputs": [],
   "source": []
  }
 ],
 "metadata": {
  "kernelspec": {
   "display_name": "Python 3 (ipykernel)",
   "language": "python",
   "name": "python3"
  },
  "language_info": {
   "codemirror_mode": {
    "name": "ipython",
    "version": 3
   },
   "file_extension": ".py",
   "mimetype": "text/x-python",
   "name": "python",
   "nbconvert_exporter": "python",
   "pygments_lexer": "ipython3",
   "version": "3.9.13"
  }
 },
 "nbformat": 4,
 "nbformat_minor": 5
}
