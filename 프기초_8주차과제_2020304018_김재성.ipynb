{
 "cells": [
  {
   "cell_type": "code",
   "execution_count": 10,
   "id": "c37f250c",
   "metadata": {},
   "outputs": [
    {
     "name": "stdout",
     "output_type": "stream",
     "text": [
      "두 개의 정수를 입력하시오 >> 12 18\n",
      "12 18 공약수 >>  [1, 2, 3, 6]\n",
      "12 18 최대 공약수 >>  6\n",
      "12 18 공약수의 합 >>  12\n"
     ]
    }
   ],
   "source": [
    "# 문제 01\n",
    "\n",
    "\n",
    "x = [1, 2, 3]\n",
    "\n",
    "a, b = map(int, input(\"두 개의 정수를 입력하시오 >> \").split())\n",
    "\n",
    "if a < b:\n",
    "    smaller = a\n",
    "else:\n",
    "    smaller = b\n",
    "\n",
    "div = []\n",
    "\n",
    "for i in range(1, smaller + 1):\n",
    "    if a % i == 0 and b % i == 0:\n",
    "        div.append(i)\n",
    "\n",
    "print(a, b, \"공약수 >> \", div)\n",
    "\n",
    "great = div[-1]\n",
    "print(a, b, \"최대 공약수 >> \", great)\n",
    "\n",
    "sumdiv = sum(div)\n",
    "print(a, b, \"공약수의 합 >> \", sumdiv)\n",
    "\n",
    "x.remove(1)\n",
    "x.remove(2)\n",
    "x.remove(3)\n",
    "\n"
   ]
  },
  {
   "cell_type": "code",
   "execution_count": 1,
   "id": "1a1449bd",
   "metadata": {},
   "outputs": [
    {
     "name": "stdout",
     "output_type": "stream",
     "text": [
      "행렬 list1의 행과 열의 개수를 입력하시오 >> 3 2\n",
      "행렬 list2의 행과 열의 개수를 입력하시오 >> 3 2\n",
      "행렬의 합은 : \n",
      " ㅣ 4   ㅣ 4   ㅣ   ㅣ 1 ㅣ 4 ㅣ   ㅣ 5 ㅣ 8 ㅣ\n",
      " ㅣ 1   ㅣ 1   ㅣ + ㅣ 1 ㅣ 3 ㅣ = ㅣ 2 ㅣ 4 ㅣ\n",
      " ㅣ 2   ㅣ 0   ㅣ   ㅣ 4 ㅣ 1 ㅣ   ㅣ 6 ㅣ 1 ㅣ\n"
     ]
    }
   ],
   "source": [
    "# 문제 02\n",
    "\n",
    "\n",
    "\n",
    "import random\n",
    "\n",
    "a, b = map(int, input(\"행렬 list1의 행과 열의 개수를 입력하시오 >> \").split())\n",
    "\n",
    "\n",
    "list1 = [[random.randint(0, 4) for j in range(b)] for i in range(a)]\n",
    "\n",
    "\n",
    "c, d = map(int, input(\"행렬 list2의 행과 열의 개수를 입력하시오 >> \").split())\n",
    "\n",
    "\n",
    "list2 = [[random.randint(0, 4) for j in range(d)] for i in range(c)]\n",
    "\n",
    "if a != c or b != d:\n",
    "    print(\"잘못 입력하였습니다.\")\n",
    "    exit()\n",
    "\n",
    "\n",
    "result = [[list1[i][j] + list2[i][j] for j in range(b)] for i in range(a)]\n",
    "\n",
    "print(\"행렬의 합은 : \")\n",
    "for i in range(a):\n",
    "    for j in range(b):\n",
    "        if len(str(list1[i][j])) == 1:\n",
    "            print(\" ㅣ {}  \".format(list1[i][j]), end=\"\")\n",
    "        else:\n",
    "            print(\" ㅣ {}  \".format(list1[i][j]), end=\"\")\n",
    "    if i == a//2:\n",
    "        print(\" ㅣ + ㅣ\", end=\"\")\n",
    "    else:\n",
    "        print(\" ㅣ   ㅣ\", end=\"\")\n",
    "    for j in range(b):\n",
    "        if len(str(list2[i][j])) == 1:\n",
    "            print(\" {} ㅣ\".format(list2[i][j]), end=\"\")\n",
    "        else:\n",
    "            print(\"{} ㅣ\".format(list2[i][j]), end=\"\")\n",
    "    if i == a//2:\n",
    "        print(\" = ㅣ\", end=\"\")\n",
    "    else:\n",
    "        print(\"   ㅣ\", end=\"\")\n",
    "    for j in range(b):\n",
    "        if len(str(result[i][j])) == 1:\n",
    "            print(\" {} ㅣ\".format(result[i][j]), end=\"\")\n",
    "        else:\n",
    "            print(\"{} ㅣ\".format(result[i][j]), end=\"\")\n",
    "    print()\n"
   ]
  },
  {
   "cell_type": "code",
   "execution_count": null,
   "id": "69caf22e",
   "metadata": {},
   "outputs": [],
   "source": []
  }
 ],
 "metadata": {
  "kernelspec": {
   "display_name": "Python 3 (ipykernel)",
   "language": "python",
   "name": "python3"
  },
  "language_info": {
   "codemirror_mode": {
    "name": "ipython",
    "version": 3
   },
   "file_extension": ".py",
   "mimetype": "text/x-python",
   "name": "python",
   "nbconvert_exporter": "python",
   "pygments_lexer": "ipython3",
   "version": "3.9.13"
  }
 },
 "nbformat": 4,
 "nbformat_minor": 5
}
