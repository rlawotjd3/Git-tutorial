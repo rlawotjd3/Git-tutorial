{
 "cells": [
  {
   "cell_type": "code",
   "execution_count": 1,
   "id": "0582941b",
   "metadata": {},
   "outputs": [
    {
     "name": "stdout",
     "output_type": "stream",
     "text": [
      "어떤 장비를 구입하시겠어요? >>나무\n",
      "여기서에서는 팔지 않는 장비입니다.\n",
      "어떤 장비를 구입하시겠어요? >>칼\n",
      "몇 개? >>5\n",
      "칼 구입\n",
      "18250 골드 입니다.\n",
      "어떤 장비를 구입하시겠어요? >>나가기\n",
      "이용해주셔서 감사합니다 다음에 또 오세요\n"
     ]
    }
   ],
   "source": [
    "#예제01\n",
    "\n",
    "equipment = ['칼', '창', '활', '도끼', '포션', '방어구']\n",
    "price = [3650, 3500, 7500, 3800, 3400, 5000]\n",
    "\n",
    "store = dict(zip(equipment, price))\n",
    "\n",
    "while True:\n",
    "    item_name = input(\"어떤 장비를 구입하시겠어요? >>\")\n",
    "    if item_name == \"나가기\":\n",
    "        print(\"이용해주셔서 감사합니다 다음에 또 오세요\")\n",
    "        break\n",
    "    if item_name not in store:\n",
    "        print(\"여기서에서는 팔지 않는 장비입니다.\")\n",
    "        continue\n",
    "    item_num = int(input(\"몇 개? >>\".format(item_name)))\n",
    "    item_price = store[item_name] * item_num\n",
    "    print(item_name, \"구입\")\n",
    "    print(item_price, \"골드 입니다.\")"
   ]
  },
  {
   "cell_type": "code",
   "execution_count": 2,
   "id": "115e4e6e",
   "metadata": {},
   "outputs": [
    {
     "name": "stdout",
     "output_type": "stream",
     "text": [
      "원하는 시작과 끝 숫자를 입력하세요 >> 1 20\n",
      "짝수 or 홀수 입력 >> 짝수\n",
      "list A :  [1, 2, 3, 4, 5, 6, 7, 8, 9, 10, 11, 12, 13, 14, 15, 16, 17, 18, 19]\n",
      "짝수번째 인덱스만 출력:  [1, 3, 5, 7, 9, 11, 13, 15, 17, 19]\n"
     ]
    }
   ],
   "source": [
    "#예제02\n",
    "\n",
    "start, end = map(int, input(\"원하는 시작과 끝 숫자를 입력하세요 >> \").split())\n",
    "\n",
    "A = list(range(start, end))\n",
    "\n",
    "even = list(range(1, len(A)+1, 2))\n",
    "odd = list(range(2, len(A)+1, 2))\n",
    "\n",
    "choice = input(\"짝수 or 홀수 입력 >> \")\n",
    "\n",
    "print(\"list A : \", A)\n",
    "\n",
    "if choice == '짝수':\n",
    "    print(\"짝수번째 인덱스만 출력: \", even)\n",
    "elif choice == '홀수':\n",
    "    print(\"홀수번째 인덱스만 출력: \", odd)\n",
    "else:\n",
    "    print(\"잘못된 입력입니다.\")"
   ]
  },
  {
   "cell_type": "code",
   "execution_count": 3,
   "id": "02417342",
   "metadata": {},
   "outputs": [
    {
     "name": "stdout",
     "output_type": "stream",
     "text": [
      "원하는 숫자의 범위를 입력하세요>> -5 6\n",
      "남은기회 :  5\n",
      "숫자 입력 : 5\n",
      "Down\n",
      "남은기회 :  4\n",
      "숫자 입력 : 0\n",
      "Up\n",
      "남은기회 :  3\n",
      "숫자 입력 : 1\n",
      "Up\n",
      "남은기회 :  2\n",
      "숫자 입력 : 2\n",
      "Up\n",
      "남은기회 :  1\n",
      "숫자 입력 : 3\n",
      "Up\n",
      "못 맞췄습니다.\n",
      "정답은  4\n"
     ]
    }
   ],
   "source": [
    "#예제03\n",
    "\n",
    "import random\n",
    "\n",
    "start, end = map(int, input(\"원하는 숫자의 범위를 입력하세요>> \").split())\n",
    "answer = random.randint(start, end)\n",
    "\n",
    "chances = 5\n",
    "while chances > 0:\n",
    "    print(\"남은기회 : \", chances)\n",
    "    guess = int(input(\"숫자 입력 : \"))\n",
    "    if guess < start or guess > end:\n",
    "        print(start, \" 부터 \", end, \" 사이의 숫자입니다. 다시 입력하세요.\")\n",
    "    else:\n",
    "        chances -= 1\n",
    "        if guess == answer:\n",
    "            print(\"정답!\")\n",
    "            break\n",
    "        elif guess < answer:\n",
    "            print(\"Up\")\n",
    "        else:\n",
    "            print(\"Down\")\n",
    "\n",
    "    if chances == 0:\n",
    "        print(\"못 맞췄습니다.\")\n",
    "        print(\"정답은 \", answer)"
   ]
  },
  {
   "cell_type": "code",
   "execution_count": null,
   "id": "399ad122",
   "metadata": {},
   "outputs": [],
   "source": []
  }
 ],
 "metadata": {
  "kernelspec": {
   "display_name": "Python 3 (ipykernel)",
   "language": "python",
   "name": "python3"
  },
  "language_info": {
   "codemirror_mode": {
    "name": "ipython",
    "version": 3
   },
   "file_extension": ".py",
   "mimetype": "text/x-python",
   "name": "python",
   "nbconvert_exporter": "python",
   "pygments_lexer": "ipython3",
   "version": "3.9.13"
  }
 },
 "nbformat": 4,
 "nbformat_minor": 5
}
