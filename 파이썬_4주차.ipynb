{
 "cells": [
  {
   "cell_type": "code",
   "execution_count": 3,
   "id": "48b217df",
   "metadata": {},
   "outputs": [
    {
     "name": "stdout",
     "output_type": "stream",
     "text": [
      "이름을 입력하세요 >>> 홍길동\n",
      "나이를 입력하세요 >>> 22\n",
      "성별을 입력하세요 >>> 남자\n",
      "양쪽 시력을 입력하세요 >>> 0.7 1.0\n",
      "홍길동 :  True\n"
     ]
    }
   ],
   "source": [
    "#01\n",
    "\n",
    "name = input(\"이름을 입력하세요 >>> \")\n",
    "age = int(input(\"나이를 입력하세요 >>> \"))\n",
    "gender = input(\"성별을 입력하세요 >>> \")\n",
    "lefteye, righteye = map(float, input(\"양쪽 시력을 입력하세요 >>> \").split())\n",
    "\n",
    "print(name + \" : \", age >= 19 and age <= 29 and gender == \"남자\" and lefteye > 0.6 and righteye > 0.6)\n"
   ]
  },
  {
   "cell_type": "code",
   "execution_count": 7,
   "id": "80eb2bdd",
   "metadata": {},
   "outputs": [
    {
     "name": "stdout",
     "output_type": "stream",
     "text": [
      "이름과 학번을 입력하시오 >>> 홍길동 2021123456\n",
      "저의 이름은 '홍길동'입니다.\n",
      "저의 학번은 '2021123456'입니다.\n",
      "안녕하세요.\n",
      "\n"
     ]
    }
   ],
   "source": [
    "#02\n",
    "\n",
    "x=input(\"이름과 학번을 입력하시오 >>> \").split(\" \")\n",
    "tuple(x)\n",
    "\n",
    "s = \"\"\"저의 이름은 '\"\"\"+x[0]+\"\"\"'입니다.\n",
    "저의 학번은 '\"\"\"+x[1]+\"\"\"'입니다.\n",
    "안녕하세요.\n",
    "\"\"\"\n",
    "\n",
    "print(s)"
   ]
  },
  {
   "cell_type": "code",
   "execution_count": 8,
   "id": "11118bf9",
   "metadata": {
    "scrolled": true
   },
   "outputs": [
    {
     "name": "stdout",
     "output_type": "stream",
     "text": [
      "첫 항, 마지막 항 그리고 공차를 입력하시오 >>> 1 10 2\n",
      "등차 수열의 list >>>  [1, 3, 5, 7, 9]\n",
      "등차 수열의 tuple >>>  (1, 3, 5, 7, 9)\n",
      "등차 수열의 type >>>  <class 'range'>\n"
     ]
    }
   ],
   "source": [
    "#03\n",
    "\n",
    "first, last,  difference = map(int, input(\"첫 항, 마지막 항 그리고 공차를 입력하시오 >>> \").split(\" \"))\n",
    "\n",
    "x = range(first, last + 1, difference)\n",
    "\n",
    "print(\"등차 수열의 list >>> \", list(x))\n",
    "print(\"등차 수열의 tuple >>> \", tuple(x))\n",
    "print(\"등차 수열의 type >>> \", type(x))\n",
    "\n",
    "\n"
   ]
  },
  {
   "cell_type": "code",
   "execution_count": 9,
   "id": "e50d2014",
   "metadata": {},
   "outputs": [
    {
     "name": "stdout",
     "output_type": "stream",
     "text": [
      "첫 항, 마지막 항 그리고 공차를 입력하시오 >>> 0 10 2\n",
      "등차 수열의 list >>>  [0, 2, 4, 6, 8, 10]\n",
      "등차 수열의 tuple >>>  (0, 2, 4, 6, 8, 10)\n",
      "등차 수열의 type >>>  <class 'range'>\n"
     ]
    }
   ],
   "source": [
    "#03\n",
    "\n",
    "first, last,  difference = map(int, input(\"첫 항, 마지막 항 그리고 공차를 입력하시오 >>> \").split(\" \"))\n",
    "\n",
    "x = range(first, last + 1, difference)\n",
    "\n",
    "print(\"등차 수열의 list >>> \", list(x))\n",
    "print(\"등차 수열의 tuple >>> \", tuple(x))\n",
    "print(\"등차 수열의 type >>> \", type(x))"
   ]
  },
  {
   "cell_type": "code",
   "execution_count": 21,
   "id": "6d69ef49",
   "metadata": {},
   "outputs": [
    {
     "name": "stdout",
     "output_type": "stream",
     "text": [
      "이차방정식 ax^2+bx+c=0 인 식에 a,b,c 값을 쓰시오 >>> 1 5 6\n",
      "이차 방정식 >>> 1x^2+5x+6=0\n",
      "식의 두 근 >>>  [-2.0, -3.0]\n"
     ]
    }
   ],
   "source": [
    "#04\n",
    "\n",
    "m = map(int, input(\"이차방정식 ax^2+bx+c=0 인 식에 a,b,c 값을 쓰시오 >>> \").split())\n",
    "z = list(m)\n",
    "\n",
    "x1 = (-z[1] + (z[1]**2 - 4*z[0]*z[2])**(1/2)) / (2*z[0])\n",
    "x2 = (-z[1] - (z[1]**2 - 4*z[0]*z[2])**(1/2)) / (2*z[0])\n",
    "\n",
    "x = [x1, x2]\n",
    "\n",
    "print(\"이차 방정식 >>> \", z[0],\"x^2+\",z[1],\"x+\",z[2],\"=0\", sep = '' )\n",
    "print(\"식의 두 근 >>> \", x)\n"
   ]
  },
  {
   "cell_type": "code",
   "execution_count": null,
   "id": "f14a8383",
   "metadata": {},
   "outputs": [],
   "source": []
  }
 ],
 "metadata": {
  "kernelspec": {
   "display_name": "Python 3 (ipykernel)",
   "language": "python",
   "name": "python3"
  },
  "language_info": {
   "codemirror_mode": {
    "name": "ipython",
    "version": 3
   },
   "file_extension": ".py",
   "mimetype": "text/x-python",
   "name": "python",
   "nbconvert_exporter": "python",
   "pygments_lexer": "ipython3",
   "version": "3.9.13"
  }
 },
 "nbformat": 4,
 "nbformat_minor": 5
}
