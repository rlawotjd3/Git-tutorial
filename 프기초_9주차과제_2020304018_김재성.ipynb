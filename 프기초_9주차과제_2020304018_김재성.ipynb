{
 "cells": [
  {
   "cell_type": "code",
   "execution_count": 7,
   "id": "310e2ed4",
   "metadata": {},
   "outputs": [
    {
     "name": "stdout",
     "output_type": "stream",
     "text": [
      "구구단 몇 단을 출력하시겠습니까? 9\n",
      "===============\n",
      "ㅣ 9 x  1 =  9ㅣ\n",
      "ㅣ 9 x  2 = 18ㅣ\n",
      "ㅣ 9 x  3 = 27ㅣ\n",
      "ㅣ 9 x  4 = 36ㅣ\n",
      "ㅣ 9 x  5 = 45ㅣ\n",
      "ㅣ 9 x  6 = 54ㅣ\n",
      "ㅣ 9 x  7 = 63ㅣ\n",
      "ㅣ 9 x  8 = 72ㅣ\n",
      "ㅣ 9 x  9 = 81ㅣ\n",
      "===============\n"
     ]
    }
   ],
   "source": [
    "#문제 01\n",
    "\n",
    "dan = int(input(\"구구단 몇 단을 출력하시겠습니까? \"))\n",
    "\n",
    "print(\"=\" * 15)  # 상단 테두리 출력\n",
    "\n",
    "for i in range(1, 10):\n",
    "    result = dan * i\n",
    "    print(\"ㅣ{:2} x {:2} = {:2}ㅣ\".format(dan, i, result))\n",
    "\n",
    "print(\"=\" * 15)  # 하단 테두리 출력"
   ]
  },
  {
   "cell_type": "code",
   "execution_count": 15,
   "id": "4052e326",
   "metadata": {},
   "outputs": [
    {
     "name": "stdout",
     "output_type": "stream",
     "text": [
      "12\n",
      "12 의 약수: [1, 2, 3, 4, 6, 12]\n"
     ]
    }
   ],
   "source": [
    "#문제 02\n",
    "\n",
    "def divisor(n):\n",
    "    divisors = []\n",
    "    for i in range(1, n+1):\n",
    "        if n % i == 0:\n",
    "            divisors.append(i)\n",
    "    return divisors\n",
    "\n",
    "x = int(input())\n",
    "divisors = divisor(x)\n",
    "print(x, \"의 약수: {}\".format(divisors))\n"
   ]
  },
  {
   "cell_type": "code",
   "execution_count": 30,
   "id": "225014fe",
   "metadata": {},
   "outputs": [
    {
     "name": "stdout",
     "output_type": "stream",
     "text": [
      "숫자를 입력하세요: 10 100 1000 10000\n",
      "입력한 수의 합은 11,110, 곱은 10,000,000,000 입니다.\n"
     ]
    }
   ],
   "source": [
    "#문제 03\n",
    "\n",
    "def sum_and_product(*args):\n",
    "    total_sum = sum(args)\n",
    "    product = 1\n",
    "    for num in args:\n",
    "        product *= num\n",
    "    return total_sum, product\n",
    "\n",
    "user_input = input(\"숫자를 입력하세요: \")\n",
    "numbers = [int(num) for num in user_input.split()]\n",
    "total_sum, product = sum_and_product(*numbers)\n",
    "\n",
    "print(\"입력한 수의 합은 {:,}, 곱은 {:,} 입니다.\".format(total_sum, product))"
   ]
  },
  {
   "cell_type": "code",
   "execution_count": null,
   "id": "4c31ef44",
   "metadata": {},
   "outputs": [],
   "source": []
  }
 ],
 "metadata": {
  "kernelspec": {
   "display_name": "Python 3 (ipykernel)",
   "language": "python",
   "name": "python3"
  },
  "language_info": {
   "codemirror_mode": {
    "name": "ipython",
    "version": 3
   },
   "file_extension": ".py",
   "mimetype": "text/x-python",
   "name": "python",
   "nbconvert_exporter": "python",
   "pygments_lexer": "ipython3",
   "version": "3.9.13"
  }
 },
 "nbformat": 4,
 "nbformat_minor": 5
}
