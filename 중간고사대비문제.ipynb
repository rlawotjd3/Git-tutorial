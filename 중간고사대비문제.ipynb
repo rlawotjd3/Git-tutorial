{
 "cells": [
  {
   "cell_type": "code",
   "execution_count": 1,
   "id": "cd6e1eb8",
   "metadata": {},
   "outputs": [
    {
     "name": "stdout",
     "output_type": "stream",
     "text": [
      "선언한 리스트 : ['H', 'e', 'l', 'l', 'o', ',', 'w', 'o', 'r', 'k', 'l', 'd', '!']\n",
      "고친 리스트 : ['H', 'e', 'l', 'l', 'o', ',', 'w', 'o', 'r', 'l', 'd', '!']\n"
     ]
    }
   ],
   "source": [
    "#1\n",
    "\n",
    "a = list('Hello,workld!')\n",
    "print(\"선언한 리스트 :\",a)\n",
    "\n",
    "del a[9]\n",
    "print(\"고친 리스트 :\",a)"
   ]
  },
  {
   "cell_type": "code",
   "execution_count": 9,
   "id": "93691250",
   "metadata": {},
   "outputs": [
    {
     "name": "stdout",
     "output_type": "stream",
     "text": [
      "리스트 A\n",
      " [0, 1, 2, 3, 4, 5, 6, 7, 8, 9, 10, 11, 12, 13, 14, 15, 16, 17, 18, 19, 20, 21, 22, 23, 24, 25, 26, 27, 28, 29, 30, 31, 32, 33, 34, 35, 36, 37, 38, 39, 40, 41, 42, 43, 44, 45, 46, 47, 48, 49, 50]\n",
      "\n",
      "숫자를 입력하세요 : 2\n",
      "2 의 배수 출력 [2, 4, 6, 8, 10, 12, 14, 16, 18, 20, 22, 24, 26, 28, 30, 32, 34, 36, 38, 40, 42, 44, 46, 48, 50]\n"
     ]
    }
   ],
   "source": [
    "#2\n",
    "\n",
    "A = list(range(51))\n",
    "print(\"리스트 A\\n\", A)\n",
    "\n",
    "x = int(input(\"\\n숫자를 입력하세요 : \"))\n",
    "print(x,\"의 배수 출력\",A[x::x])\n",
    "\n",
    "\n",
    "\n",
    "\n",
    "\n",
    "\n",
    "\n",
    "\n",
    "\n"
   ]
  },
  {
   "cell_type": "code",
   "execution_count": 3,
   "id": "f4816e05",
   "metadata": {},
   "outputs": [
    {
     "name": "stdout",
     "output_type": "stream",
     "text": [
      "가위 바위 보 게임\n",
      "가위 바위 보 중 하나를 입력하세요: 가위\n",
      "\n",
      "컴퓨터는 보를 냈습니다.\n",
      "플레이어는 가위를 냈습니다.\n",
      "플레이어 승리\n"
     ]
    }
   ],
   "source": [
    "#3\n",
    "\n",
    "import random\n",
    "\n",
    "rsp = ['가위', '바위', '보']\n",
    "print('가위 바위 보 게임')\n",
    "\n",
    "computer = random.choice(rsp)\n",
    "player = input('가위 바위 보 중 하나를 입력하세요: ')\n",
    "\n",
    "#잘못 입력했을때\n",
    "if player not in rsp:\n",
    "    print('잘못된 입력입니다.')\n",
    "    \n",
    "\n",
    "else:\n",
    "    print(\"\\n컴퓨터는 \" + computer + \"를 냈습니다.\")\n",
    "    print(\"플레이어는 \" + player + \"를 냈습니다.\")\n",
    "    \n",
    "    if computer == '가위':\n",
    "        \n",
    "        if player == '가위':\n",
    "            print('무승부')\n",
    "        elif player == '바위':\n",
    "            print('플레이어 승리')   \n",
    "        elif player == '보':\n",
    "            print('컴퓨터 승리')\n",
    "            \n",
    "            \n",
    "            \n",
    "    elif computer == '바위':\n",
    "        \n",
    "        if player == '가위':\n",
    "            print('컴퓨터 승리')\n",
    "        elif player == '바위':\n",
    "            print('무승부')\n",
    "        elif player == '보':\n",
    "            print('플레이어 승리')\n",
    "            \n",
    "            \n",
    "            \n",
    "    elif computer == '보':\n",
    "\n",
    "        if player == '가위':\n",
    "            print('플레이어 승리')\n",
    "        elif player == '바위':\n",
    "            print('컴퓨터 승리') \n",
    "        elif player == '보':\n",
    "            print('무승부')\n",
    "            \n",
    "            "
   ]
  },
  {
   "cell_type": "code",
   "execution_count": 11,
   "id": "db240618",
   "metadata": {
    "scrolled": true
   },
   "outputs": [
    {
     "name": "stdout",
     "output_type": "stream",
     "text": [
      "변환범위 :  m(밀리:10^-3) ~ k(킬로:10^3)\n",
      "원래 단위 : V\n",
      "변환 단위 : mV\n",
      "값 입력 : 0.7\n",
      "변환값 : 700.0\n"
     ]
    }
   ],
   "source": [
    "#4\n",
    "\n",
    "print(\"변환범위 :  m(밀리:10^-3) ~ k(킬로:10^3)\")\n",
    "\n",
    "\n",
    "i = input(\"원래 단위 : \")\n",
    "o = input(\"변환 단위 : \")\n",
    "\n",
    "x = float(input(\"값 입력 : \"))\n",
    "\n",
    "\n",
    "# A, V, g등 단위가 같을때\n",
    "if i[-1] == o[-1]  :\n",
    "\n",
    "    #원래 단위를 기본 단위로 변환\n",
    "    if i[0] == 'm' :\n",
    "        x = x*(10**-3)\n",
    "    elif i[0] == 'k' :\n",
    "        x = x*(10**3)\n",
    "\n",
    "    \n",
    "\n",
    "    #기본단위를 변환단위로 변환\n",
    "    if o[0] == 'm' :\n",
    "        x = x*(10**3)\n",
    "    elif o[0] == 'k' :\n",
    "        x = x*(10**-3)\n",
    "    \n",
    "    \n",
    "    \n",
    "    print(\"변환값 : \" + str(x))\n",
    "\n",
    "\n",
    "# A, V, g등 단위가 맞지 않을때 예외처리\n",
    "else :\n",
    "    print(\"잘못된 사용입니다.\")\n"
   ]
  },
  {
   "cell_type": "code",
   "execution_count": null,
   "id": "b4d7da2f",
   "metadata": {},
   "outputs": [
    {
     "name": "stdout",
     "output_type": "stream",
     "text": [
      "현재 가진 금액을 입력해주세요 : 20000\n",
      "\n",
      "어떤 채소를 구매하시겠습니까? : 당근\n",
      "몇개를 구매하시겠습니까? : -1\n",
      "잘못 입력하셨습니다.\n"
     ]
    }
   ],
   "source": [
    "#5\n",
    "\n",
    "vegetable = ['당근', '오이', '양파', '고추', '가지', '상추']\n",
    "price = [3650, 3500, 7500, 3800, 3400, 5000]\n",
    "\n",
    "A = dict(zip(vegetable,price))\n",
    "money = int(input(\"현재 가진 금액을 입력해주세요 : \"))\n",
    "\n",
    "\n",
    "while True :\n",
    "    \n",
    "    choice = input(\"\\n어떤 채소를 구매하시겠습니까? : \")\n",
    "    \n",
    "    #입력한 채소가 딕셔너리에 있을때\n",
    "    if choice in A :\n",
    "        num =  int(input(\"몇개를 구매하시겠습니까? : \"))\n",
    "        pay = A[choice] * num\n",
    "        money -= pay\n",
    "        \n",
    "        if num <=0 :  # 개수가 0이하일때 \n",
    "            print(\"잘못 입력하셨습니다.\")\n",
    "        \n",
    "        \n",
    "        elif money > 0 :   \n",
    "            print(\"구매를 완료하였습니다.\\n남은금액 : \",money)\n",
    "            \n",
    "            \n",
    "        else :          # 지불가격이 가진 금액 이상일때\n",
    "            print(\"잔액이 부족합니다.\\n이용해주셔서 감사합니다.\")\n",
    "            break\n",
    "             \n",
    "\n",
    "    #채소 대신 exit 입력했을때\n",
    "    elif choice == \"exit\" :\n",
    "        print(\"이용해주셔서 감사합니다.\")\n",
    "        break\n",
    "        \n",
    "        \n",
    "    #입력한 채소가 없을때\n",
    "    else :\n",
    "        print(choice,\"는 없는 채소입니다\",sep=\"\")"
   ]
  },
  {
   "cell_type": "code",
   "execution_count": 8,
   "id": "f07ba098",
   "metadata": {},
   "outputs": [
    {
     "name": "stdout",
     "output_type": "stream",
     "text": [
      "{'hello': 'asdf1234', 'world': 'qwer12', 'pin': '1111', 'user': '0000'}\n",
      "아이디 입력 >>hello\n",
      "비밀번호 입력 >>asdf1234\n",
      "\n",
      "변경할 비밀번호를 입력 >>1111\n",
      "비밀번호 확인 >>1111\n",
      "비밀번호가 변경되었습니다.\n",
      "\n",
      "{'hello': '1111', 'world': 'qwer12', 'pin': '1111', 'user': '0000'}\n"
     ]
    }
   ],
   "source": [
    "#6\n",
    "\n",
    "DB = {'hello':'asdf1234', 'world':'qwer12', 'pin':'1111', 'user':'0000'}\n",
    "\n",
    "print(DB)\n",
    "\n",
    "ID = input(\"아이디 입력 >>\")\n",
    "\n",
    "#입력한 ID가 있을때\n",
    "if ID in DB:\n",
    "    pw = input(\"비밀번호 입력 >>\")\n",
    "    \n",
    "    if DB[ID] == pw:\n",
    "        pw1 = input(\"\\n변경할 비밀번호를 입력 >>\")\n",
    "        \n",
    "        if len(pw1) >= 8:\n",
    "            print(\"비밀번호가 너무 깁니다.\")    \n",
    "        else:\n",
    "            pw2 = input(\"비밀번호 확인 >>\")\n",
    "            \n",
    "            if pw1 == pw2:\n",
    "                print(\"비밀번호가 변경되었습니다.\\n\")\n",
    "                DB[ID] = pw2\n",
    "                print(DB) \n",
    "            else:\n",
    "                print(\"입력한 비밀번호와 다릅니다.\")\n",
    "                \n",
    "    else:\n",
    "        print(\"비밀번호가 틀렸습니다.\")\n",
    "        \n",
    "#딕셔너리에 ID가 없을때\n",
    "else:\n",
    "    print(\"DB에 없는 아이디입니다.\")"
   ]
  },
  {
   "cell_type": "code",
   "execution_count": null,
   "id": "78e046cd",
   "metadata": {},
   "outputs": [],
   "source": []
  }
 ],
 "metadata": {
  "kernelspec": {
   "display_name": "Python 3 (ipykernel)",
   "language": "python",
   "name": "python3"
  },
  "language_info": {
   "codemirror_mode": {
    "name": "ipython",
    "version": 3
   },
   "file_extension": ".py",
   "mimetype": "text/x-python",
   "name": "python",
   "nbconvert_exporter": "python",
   "pygments_lexer": "ipython3",
   "version": "3.9.13"
  }
 },
 "nbformat": 4,
 "nbformat_minor": 5
}
